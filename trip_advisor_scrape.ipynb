{
 "cells": [
  {
   "cell_type": "code",
   "execution_count": 2,
   "metadata": {},
   "outputs": [],
   "source": [
    "# Dependencies\n",
    "import os\n",
    "import requests\n",
    "import ssl\n",
    "from bs4 import BeautifulSoup as bs\n",
    "import urllib.request, urllib.parse, urllib.error\n",
    "#import warnings if not sys.warnoptions:\n",
    "    #warnings.simplefilter(\"ignore\")#For ignoring SSL certificate errors\n",
    "ctx = ssl.create_default_context()\n",
    "ctx.check_hostname = False\n",
    "ctx.verify_mode = ssl.CERT_NONE# url = input('Enter url - ' )"
   ]
  },
  {
   "cell_type": "code",
   "execution_count": 3,
   "metadata": {},
   "outputs": [],
   "source": [
    "# URL of page to be scraped\n",
    "# check in 04-01-2019 check out 04-30-2019\n",
    "url = 'https://www.tripadvisor.ca/Hotels-g60982-Honolulu_Oahu_Hawaii-Hotels.html'"
   ]
  },
  {
   "cell_type": "code",
   "execution_count": 4,
   "metadata": {},
   "outputs": [],
   "source": [
    "html = urllib.request.urlopen(url, context=ctx).read()"
   ]
  },
  {
   "cell_type": "code",
   "execution_count": 5,
   "metadata": {},
   "outputs": [],
   "source": [
    "soup = bs(html, 'html.parser')"
   ]
  },
  {
   "cell_type": "code",
   "execution_count": 6,
   "metadata": {},
   "outputs": [],
   "source": [
    "# Examine the results, then determine element that contains sought info\n",
    "html = soup.prettify(\"utf-8\")"
   ]
  },
  {
   "cell_type": "code",
   "execution_count": 7,
   "metadata": {},
   "outputs": [
    {
     "data": {
      "text/plain": [
       "[<div class=\"listing_title ui_columns is-gapless is-mobile is-multiline\"><div class=\"ui_column is-narrow\"><span class=\"ui_merchandising_pill sponsored_v2\">Sponsored</span></div><div class=\"ui_column is-narrow title_wrap\"><a class=\"property_title prominent \" data-clicksource=\"HotelName\" dir=\"ltr\" href=\"/Hotel_Review-g60982-d12077161-Reviews-Holiday_Inn_Express_Waikiki-Honolulu_Oahu_Hawaii.html\" id=\"property_12077161\" onclick=\"return false;\" target=\"_blank\">Holiday Inn Express Waikiki</a></div></div>,\n",
       " <div class=\"listing_title\"><a class=\"property_title prominent \" data-clicksource=\"HotelName\" dir=\"ltr\" href=\"/Hotel_Review-g60982-d87119-Reviews-Hotel_La_Croix-Honolulu_Oahu_Hawaii.html\" id=\"property_87119\" onclick=\"return false;\" target=\"_blank\">Hotel La Croix</a></div>,\n",
       " <div class=\"listing_title\"><a class=\"property_title prominent \" data-clicksource=\"HotelName\" dir=\"ltr\" href=\"/Hotel_Review-g60982-d1818106-Reviews-The_Modern_Honolulu-Honolulu_Oahu_Hawaii.html\" id=\"property_1818106\" onclick=\"return false;\" target=\"_blank\">The Modern Honolulu</a></div>,\n",
       " <div class=\"listing_title\"><a class=\"property_title prominent \" data-clicksource=\"HotelName\" dir=\"ltr\" href=\"/Hotel_Review-g60982-d120684-Reviews-Outrigger_Waikiki_Beach_Resort-Honolulu_Oahu_Hawaii.html\" id=\"property_120684\" onclick=\"return false;\" target=\"_blank\">Outrigger Waikiki Beach Resort</a></div>,\n",
       " <div class=\"listing_title\"><a class=\"property_title prominent \" data-clicksource=\"HotelName\" dir=\"ltr\" href=\"/Hotel_Review-g60982-d4020497-Reviews-Vive_Hotel_Waikiki-Honolulu_Oahu_Hawaii.html\" id=\"property_4020497\" onclick=\"return false;\" target=\"_blank\">Vive Hotel Waikiki</a></div>,\n",
       " <div class=\"listing_title\"><a class=\"property_title prominent \" data-clicksource=\"HotelName\" dir=\"ltr\" href=\"/Hotel_Review-g60982-d87011-Reviews-Prince_Waikiki-Honolulu_Oahu_Hawaii.html\" id=\"property_87011\" onclick=\"return false;\" target=\"_blank\">Prince Waikiki</a></div>,\n",
       " <div class=\"listing_title\"><a class=\"property_title prominent \" data-clicksource=\"HotelName\" dir=\"ltr\" href=\"/Hotel_Review-g60982-d209422-Reviews-Hilton_Waikiki_Beach-Honolulu_Oahu_Hawaii.html\" id=\"property_209422\" onclick=\"return false;\" target=\"_blank\">Hilton Waikiki Beach</a></div>,\n",
       " <div class=\"listing_title\"><a class=\"property_title prominent \" data-clicksource=\"HotelName\" dir=\"ltr\" href=\"/Hotel_Review-g60982-d2555768-Reviews-Shoreline_Hotel_Waikiki-Honolulu_Oahu_Hawaii.html\" id=\"property_2555768\" onclick=\"return false;\" target=\"_blank\">Shoreline Hotel Waikiki</a></div>,\n",
       " <div class=\"listing_title\"><a class=\"property_title prominent \" data-clicksource=\"HotelName\" dir=\"ltr\" href=\"/Hotel_Review-g60982-d242435-Reviews-Hyatt_Regency_Waikiki_Beach_Resort_Spa-Honolulu_Oahu_Hawaii.html\" id=\"property_242435\" onclick=\"return false;\" target=\"_blank\">Hyatt Regency Waikiki Beach Resort &amp; Spa</a></div>,\n",
       " <div class=\"listing_title\"><a class=\"property_title prominent \" data-clicksource=\"HotelName\" dir=\"ltr\" href=\"/Hotel_Review-g60982-d214680-Reviews-Park_Shore_Waikiki-Honolulu_Oahu_Hawaii.html\" id=\"property_214680\" onclick=\"return false;\" target=\"_blank\">Park Shore Waikiki</a></div>,\n",
       " <div class=\"listing_title\"><a class=\"property_title prominent \" data-clicksource=\"HotelName\" dir=\"ltr\" href=\"/Hotel_Review-g60982-d87040-Reviews-Hyatt_Place_Waikiki_Beach-Honolulu_Oahu_Hawaii.html\" id=\"property_87040\" onclick=\"return false;\" target=\"_blank\">Hyatt Place Waikiki Beach</a></div>,\n",
       " <div class=\"listing_title\"><a class=\"property_title prominent \" data-clicksource=\"HotelName\" dir=\"ltr\" href=\"/Hotel_Review-g60982-d86966-Reviews-Coconut_Waikiki_Hotel-Honolulu_Oahu_Hawaii.html\" id=\"property_86966\" onclick=\"return false;\" target=\"_blank\">Coconut Waikiki Hotel</a></div>,\n",
       " <div class=\"listing_title\"><a class=\"property_title prominent \" data-clicksource=\"HotelName\" dir=\"ltr\" href=\"/Hotel_Review-g60982-d87108-Reviews-Sheraton_Waikiki-Honolulu_Oahu_Hawaii.html\" id=\"property_87108\" onclick=\"return false;\" target=\"_blank\">Sheraton Waikiki</a></div>,\n",
       " <div class=\"listing_title\"><a class=\"property_title prominent \" data-clicksource=\"HotelName\" dir=\"ltr\" href=\"/Hotel_Review-g60982-d86988-Reviews-Aqua_Oasis-Honolulu_Oahu_Hawaii.html\" id=\"property_86988\" onclick=\"return false;\" target=\"_blank\">Aqua Oasis</a></div>,\n",
       " <div class=\"listing_title\"><a class=\"property_title prominent \" data-clicksource=\"HotelName\" dir=\"ltr\" href=\"/Hotel_Review-g60982-d10728599-Reviews-Hyatt_Centric_Waikiki_Beach-Honolulu_Oahu_Hawaii.html\" id=\"property_10728599\" onclick=\"return false;\" target=\"_blank\">Hyatt Centric Waikiki Beach</a></div>,\n",
       " <div class=\"listing_title\"><a class=\"property_title prominent \" data-clicksource=\"HotelName\" dir=\"ltr\" href=\"/Hotel_Review-g60982-d87052-Reviews-Outrigger_Reef_Waikiki_Beach_Resort-Honolulu_Oahu_Hawaii.html\" id=\"property_87052\" onclick=\"return false;\" target=\"_blank\">Outrigger Reef Waikiki Beach Resort</a></div>,\n",
       " <div class=\"listing_title\"><a class=\"property_title prominent \" data-clicksource=\"HotelName\" dir=\"ltr\" href=\"/Hotel_Review-g60982-d87102-Reviews-Moana_Surfrider_A_Westin_Resort_Spa_Waikiki_Beach-Honolulu_Oahu_Hawaii.html\" id=\"property_87102\" onclick=\"return false;\" target=\"_blank\">Moana Surfrider, A Westin Resort &amp; Spa, Waikiki Beach</a></div>,\n",
       " <div class=\"listing_title\"><a class=\"property_title prominent \" data-clicksource=\"HotelName\" dir=\"ltr\" href=\"/Hotel_Review-g60982-d227765-Reviews-The_Surfjack_Hotel_Swim_Club-Honolulu_Oahu_Hawaii.html\" id=\"property_227765\" onclick=\"return false;\" target=\"_blank\">The Surfjack Hotel &amp; Swim Club</a></div>,\n",
       " <div class=\"listing_title\"><a class=\"property_title prominent \" data-clicksource=\"HotelName\" dir=\"ltr\" href=\"/Hotel_Review-g60982-d615153-Reviews-Embassy_Suites_by_Hilton_Waikiki_Beach_Walk-Honolulu_Oahu_Hawaii.html\" id=\"property_615153\" onclick=\"return false;\" target=\"_blank\">Embassy Suites by Hilton Waikiki Beach Walk</a></div>,\n",
       " <div class=\"listing_title\"><a class=\"property_title prominent \" data-clicksource=\"HotelName\" dir=\"ltr\" href=\"/Hotel_Review-g60982-d534764-Reviews-Waikiki_Resort_Hotel-Honolulu_Oahu_Hawaii.html\" id=\"property_534764\" onclick=\"return false;\" target=\"_blank\">Waikiki Resort Hotel</a></div>,\n",
       " <div class=\"listing_title\"><a class=\"property_title prominent \" data-clicksource=\"HotelName\" dir=\"ltr\" href=\"/Hotel_Review-g60982-d114031-Reviews-Waikiki_Beachcomber_by_Outrigger-Honolulu_Oahu_Hawaii.html\" id=\"property_114031\" onclick=\"return false;\" target=\"_blank\">Waikiki Beachcomber by Outrigger</a></div>,\n",
       " <div class=\"listing_title\"><a class=\"property_title prominent \" data-clicksource=\"HotelName\" dir=\"ltr\" href=\"/Hotel_Review-g60982-d1484551-Reviews-Trump_International_Hotel_Waikiki-Honolulu_Oahu_Hawaii.html\" id=\"property_1484551\" onclick=\"return false;\" target=\"_blank\">Trump International Hotel Waikiki</a></div>,\n",
       " <div class=\"listing_title\"><a class=\"property_title prominent \" data-clicksource=\"HotelName\" dir=\"ltr\" href=\"/Hotel_Review-g60982-d87097-Reviews-Royal_Grove_Hotel-Honolulu_Oahu_Hawaii.html\" id=\"property_87097\" onclick=\"return false;\" target=\"_blank\">Royal Grove Hotel</a></div>,\n",
       " <div class=\"listing_title\"><a class=\"property_title prominent \" data-clicksource=\"HotelName\" dir=\"ltr\" href=\"/Hotel_Review-g60982-d214688-Reviews-Luana_Waikiki_Hotel_Suites-Honolulu_Oahu_Hawaii.html\" id=\"property_214688\" onclick=\"return false;\" target=\"_blank\">Luana Waikiki Hotel &amp; Suites</a></div>,\n",
       " <div class=\"listing_title\"><a class=\"property_title prominent \" data-clicksource=\"HotelName\" dir=\"ltr\" href=\"/Hotel_Review-g60982-d209424-Reviews-Ilikai_Hotel_Luxury_Suites-Honolulu_Oahu_Hawaii.html\" id=\"property_209424\" onclick=\"return false;\" target=\"_blank\">Ilikai Hotel &amp; Luxury Suites</a></div>,\n",
       " <div class=\"listing_title\"><a class=\"property_title prominent \" data-clicksource=\"HotelName\" dir=\"ltr\" href=\"/Hotel_Review-g60982-d86951-Reviews-The_New_Otani_Kaimana_Beach_Hotel-Honolulu_Oahu_Hawaii.html\" id=\"property_86951\" onclick=\"return false;\" target=\"_blank\">The New Otani Kaimana Beach Hotel</a></div>,\n",
       " <div class=\"listing_title\"><a class=\"property_title prominent \" data-clicksource=\"HotelName\" dir=\"ltr\" href=\"/Hotel_Review-g60982-d87090-Reviews-Hilton_Garden_Inn_Waikiki_Beach-Honolulu_Oahu_Hawaii.html\" id=\"property_87090\" onclick=\"return false;\" target=\"_blank\">Hilton Garden Inn Waikiki Beach</a></div>,\n",
       " <div class=\"listing_title\"><a class=\"property_title prominent \" data-clicksource=\"HotelName\" dir=\"ltr\" href=\"/Hotel_Review-g60982-d90108-Reviews-Lotus_Honolulu_at_Diamond_Head-Honolulu_Oahu_Hawaii.html\" id=\"property_90108\" onclick=\"return false;\" target=\"_blank\">Lotus Honolulu at Diamond Head</a></div>,\n",
       " <div class=\"listing_title\"><a class=\"property_title prominent \" data-clicksource=\"HotelName\" dir=\"ltr\" href=\"/Hotel_Review-g60982-d114008-Reviews-The_Kahala_Hotel_Resort-Honolulu_Oahu_Hawaii.html\" id=\"property_114008\" onclick=\"return false;\" target=\"_blank\">The Kahala Hotel &amp; Resort</a></div>,\n",
       " <div class=\"listing_title\"><a class=\"property_title prominent \" data-clicksource=\"HotelName\" dir=\"ltr\" href=\"/Hotel_Review-g60982-d10229548-Reviews-The_Ritz_Carlton_Residences_Waikiki_Beach-Honolulu_Oahu_Hawaii.html\" id=\"property_10229548\" onclick=\"return false;\" target=\"_blank\">The Ritz-Carlton Residences, Waikiki Beach</a></div>,\n",
       " <div class=\"listing_title\"><a class=\"property_title prominent \" data-clicksource=\"HotelName\" dir=\"ltr\" href=\"/Hotel_Review-g60982-d87111-Reviews-Alohilani_Resort_Waikiki_Beach-Honolulu_Oahu_Hawaii.html\" id=\"property_87111\" onclick=\"return false;\" target=\"_blank\">‘Alohilani Resort Waikiki Beach</a></div>]"
      ]
     },
     "execution_count": 7,
     "metadata": {},
     "output_type": "execute_result"
    }
   ],
   "source": [
    "# hotel names\n",
    "name_results = soup.find_all(\"div\", class_=\"listing_title\")\n",
    "name_results"
   ]
  },
  {
   "cell_type": "code",
   "execution_count": 8,
   "metadata": {},
   "outputs": [
    {
     "name": "stdout",
     "output_type": "stream",
     "text": [
      "-------------\n",
      "Holiday Inn Express Waikiki\n",
      "-------------\n",
      "Hotel La Croix\n",
      "-------------\n",
      "The Modern Honolulu\n",
      "-------------\n",
      "Outrigger Waikiki Beach Resort\n",
      "-------------\n",
      "Vive Hotel Waikiki\n",
      "-------------\n",
      "Prince Waikiki\n",
      "-------------\n",
      "Hilton Waikiki Beach\n",
      "-------------\n",
      "Shoreline Hotel Waikiki\n",
      "-------------\n",
      "Hyatt Regency Waikiki Beach Resort & Spa\n",
      "-------------\n",
      "Park Shore Waikiki\n",
      "-------------\n",
      "Hyatt Place Waikiki Beach\n",
      "-------------\n",
      "Coconut Waikiki Hotel\n",
      "-------------\n",
      "Sheraton Waikiki\n",
      "-------------\n",
      "Aqua Oasis\n",
      "-------------\n",
      "Hyatt Centric Waikiki Beach\n",
      "-------------\n",
      "Outrigger Reef Waikiki Beach Resort\n",
      "-------------\n",
      "Moana Surfrider, A Westin Resort & Spa, Waikiki Beach\n",
      "-------------\n",
      "The Surfjack Hotel & Swim Club\n",
      "-------------\n",
      "Embassy Suites by Hilton Waikiki Beach Walk\n",
      "-------------\n",
      "Waikiki Resort Hotel\n",
      "-------------\n",
      "Waikiki Beachcomber by Outrigger\n",
      "-------------\n",
      "Trump International Hotel Waikiki\n",
      "-------------\n",
      "Royal Grove Hotel\n",
      "-------------\n",
      "Luana Waikiki Hotel & Suites\n",
      "-------------\n",
      "Ilikai Hotel & Luxury Suites\n",
      "-------------\n",
      "The New Otani Kaimana Beach Hotel\n",
      "-------------\n",
      "Hilton Garden Inn Waikiki Beach\n",
      "-------------\n",
      "Lotus Honolulu at Diamond Head\n",
      "-------------\n",
      "The Kahala Hotel & Resort\n",
      "-------------\n",
      "The Ritz-Carlton Residences, Waikiki Beach\n",
      "-------------\n",
      "‘Alohilani Resort Waikiki Beach\n"
     ]
    }
   ],
   "source": [
    "# loop through returned results\n",
    "hotel_names = []\n",
    "for result in name_results:\n",
    "    # Error handling\n",
    "    try:\n",
    "        # Identify and return name of hotel\n",
    "        name = result.find('a').text\n",
    "        \n",
    "        # Print results only if title, price, and link are available\n",
    "        if (name):\n",
    "            print('-------------')\n",
    "            print(name)\n",
    "            hotel_names.append(name)\n",
    "    except AttributeError as e:\n",
    "        print(e)"
   ]
  },
  {
   "cell_type": "code",
   "execution_count": 9,
   "metadata": {},
   "outputs": [
    {
     "data": {
      "text/plain": [
       "['Holiday Inn Express Waikiki',\n",
       " 'Hotel La Croix',\n",
       " 'The Modern Honolulu',\n",
       " 'Outrigger Waikiki Beach Resort',\n",
       " 'Vive Hotel Waikiki',\n",
       " 'Prince Waikiki',\n",
       " 'Hilton Waikiki Beach',\n",
       " 'Shoreline Hotel Waikiki',\n",
       " 'Hyatt Regency Waikiki Beach Resort & Spa',\n",
       " 'Park Shore Waikiki',\n",
       " 'Hyatt Place Waikiki Beach',\n",
       " 'Coconut Waikiki Hotel',\n",
       " 'Sheraton Waikiki',\n",
       " 'Aqua Oasis',\n",
       " 'Hyatt Centric Waikiki Beach',\n",
       " 'Outrigger Reef Waikiki Beach Resort',\n",
       " 'Moana Surfrider, A Westin Resort & Spa, Waikiki Beach',\n",
       " 'The Surfjack Hotel & Swim Club',\n",
       " 'Embassy Suites by Hilton Waikiki Beach Walk',\n",
       " 'Waikiki Resort Hotel',\n",
       " 'Waikiki Beachcomber by Outrigger',\n",
       " 'Trump International Hotel Waikiki',\n",
       " 'Royal Grove Hotel',\n",
       " 'Luana Waikiki Hotel & Suites',\n",
       " 'Ilikai Hotel & Luxury Suites',\n",
       " 'The New Otani Kaimana Beach Hotel',\n",
       " 'Hilton Garden Inn Waikiki Beach',\n",
       " 'Lotus Honolulu at Diamond Head',\n",
       " 'The Kahala Hotel & Resort',\n",
       " 'The Ritz-Carlton Residences, Waikiki Beach',\n",
       " '‘Alohilani Resort Waikiki Beach']"
      ]
     },
     "execution_count": 9,
     "metadata": {},
     "output_type": "execute_result"
    }
   ],
   "source": [
    "hotel_names"
   ]
  },
  {
   "cell_type": "code",
   "execution_count": 12,
   "metadata": {},
   "outputs": [
    {
     "data": {
      "text/plain": [
       "[<div class=\"price-wrap \"><div class=\"xwrap\"><div class=\"xthrough autoResize\" data-sizegroup=\"mini-meta-xthrough\"><div>C$311</div></div></div><div class=\"price autoResize\" data-clickpart=\"chevron_price\" data-index=\"0\" data-sizegroup=\"mini-meta-price\">C$227</div></div>,\n",
       " <div class=\"price-wrap \"><div class=\"price autoResize\" data-clickpart=\"chevron_price\" data-index=\"0\" data-sizegroup=\"mini-meta-price\">C$197</div></div>,\n",
       " <div class=\"price-wrap \"><div class=\"price autoResize\" data-clickpart=\"chevron_price\" data-index=\"0\" data-sizegroup=\"mini-meta-price\">C$313</div></div>,\n",
       " <div class=\"price-wrap \"><div class=\"xwrap\"><div class=\"xthrough autoResize\" data-sizegroup=\"mini-meta-xthrough\"><div>C$437</div></div></div><div class=\"price autoResize\" data-clickpart=\"chevron_price\" data-index=\"0\" data-sizegroup=\"mini-meta-price\">C$328</div></div>,\n",
       " <div class=\"price-wrap \"><div class=\"price autoResize\" data-clickpart=\"chevron_price\" data-index=\"0\" data-sizegroup=\"mini-meta-price\">C$250</div></div>,\n",
       " <div class=\"price-wrap \"><div class=\"price autoResize\" data-clickpart=\"chevron_price\" data-index=\"0\" data-sizegroup=\"mini-meta-price\">C$357</div></div>,\n",
       " <div class=\"price-wrap \"><div class=\"price autoResize\" data-clickpart=\"chevron_price\" data-index=\"0\" data-sizegroup=\"mini-meta-price\">C$245</div></div>,\n",
       " <div class=\"price-wrap \"><div class=\"price autoResize\" data-clickpart=\"chevron_price\" data-index=\"0\" data-sizegroup=\"mini-meta-price\">C$211</div></div>,\n",
       " <div class=\"price-wrap \"><div class=\"xwrap\"><div class=\"xthrough autoResize\" data-sizegroup=\"mini-meta-xthrough\"><div>C$359</div></div></div><div class=\"price autoResize\" data-clickpart=\"chevron_price\" data-index=\"0\" data-sizegroup=\"mini-meta-price\">C$290</div></div>,\n",
       " <div class=\"price-wrap \"><div class=\"price autoResize\" data-clickpart=\"chevron_price\" data-index=\"0\" data-sizegroup=\"mini-meta-price\">C$190</div></div>,\n",
       " <div class=\"price-wrap \"><div class=\"xwrap\"><div class=\"xthrough autoResize\" data-sizegroup=\"mini-meta-xthrough\"><div>C$278</div></div></div><div class=\"price autoResize\" data-clickpart=\"chevron_price\" data-index=\"0\" data-sizegroup=\"mini-meta-price\">C$232</div></div>,\n",
       " <div class=\"price-wrap \"><div class=\"price autoResize\" data-clickpart=\"chevron_price\" data-index=\"0\" data-sizegroup=\"mini-meta-price\">C$213</div></div>,\n",
       " <div class=\"price-wrap \"><div class=\"xwrap\"><div class=\"xthrough autoResize\" data-sizegroup=\"mini-meta-xthrough\"><div>C$572</div></div></div><div class=\"price autoResize\" data-clickpart=\"chevron_price\" data-index=\"0\" data-sizegroup=\"mini-meta-price\">C$333</div></div>,\n",
       " <div class=\"price-wrap \"><div class=\"price autoResize\" data-clickpart=\"chevron_price\" data-index=\"0\" data-sizegroup=\"mini-meta-price\">C$185</div></div>,\n",
       " <div class=\"price-wrap \"><div class=\"price autoResize\" data-clickpart=\"chevron_price\" data-index=\"0\" data-sizegroup=\"mini-meta-price\">C$264</div></div>,\n",
       " <div class=\"price-wrap \"><div class=\"xwrap\"><div class=\"xthrough autoResize\" data-sizegroup=\"mini-meta-xthrough\"><div>C$354</div></div></div><div class=\"price autoResize\" data-clickpart=\"chevron_price\" data-index=\"0\" data-sizegroup=\"mini-meta-price\">C$264</div></div>,\n",
       " <div class=\"price-wrap \"><div class=\"xwrap\"><div class=\"xthrough autoResize\" data-sizegroup=\"mini-meta-xthrough\"><div>C$793</div></div></div><div class=\"price autoResize\" data-clickpart=\"chevron_price\" data-index=\"0\" data-sizegroup=\"mini-meta-price\">C$393</div></div>,\n",
       " <div class=\"price-wrap \"><div class=\"price autoResize\" data-clickpart=\"chevron_price\" data-index=\"0\" data-sizegroup=\"mini-meta-price\">C$247</div></div>,\n",
       " <div class=\"price-wrap \"><div class=\"price autoResize\" data-clickpart=\"chevron_price\" data-index=\"0\" data-sizegroup=\"mini-meta-price\">C$420</div></div>,\n",
       " <div class=\"price-wrap \"><div class=\"price autoResize\" data-clickpart=\"chevron_price\" data-index=\"0\" data-sizegroup=\"mini-meta-price\">C$178</div></div>,\n",
       " <div class=\"price-wrap \"><div class=\"xwrap\"><div class=\"xthrough autoResize\" data-sizegroup=\"mini-meta-xthrough\"><div>C$300</div></div></div><div class=\"price autoResize\" data-clickpart=\"chevron_price\" data-index=\"0\" data-sizegroup=\"mini-meta-price\">C$290</div></div>,\n",
       " <div class=\"price-wrap \"><div class=\"xwrap\"><div class=\"xthrough autoResize\" data-sizegroup=\"mini-meta-xthrough\"><div>C$955</div></div></div><div class=\"price autoResize\" data-clickpart=\"chevron_price\" data-index=\"0\" data-sizegroup=\"mini-meta-price\">C$526</div></div>,\n",
       " <div class=\"price-wrap \"><div class=\"price autoResize\" data-clickpart=\"chevron_price\" data-index=\"0\" data-sizegroup=\"mini-meta-price\">C$131</div></div>,\n",
       " <div class=\"price-wrap \"><div class=\"price autoResize\" data-clickpart=\"chevron_price\" data-index=\"0\" data-sizegroup=\"mini-meta-price\">C$238</div></div>,\n",
       " <div class=\"price-wrap \"><div class=\"xwrap\"><div class=\"xthrough autoResize\" data-sizegroup=\"mini-meta-xthrough\"><div>C$473</div></div></div><div class=\"price autoResize\" data-clickpart=\"chevron_price\" data-index=\"0\" data-sizegroup=\"mini-meta-price\">C$321</div></div>,\n",
       " <div class=\"price-wrap \"><div class=\"price autoResize\" data-clickpart=\"chevron_price\" data-index=\"0\" data-sizegroup=\"mini-meta-price\">C$297</div></div>,\n",
       " <div class=\"price-wrap \"><div class=\"xwrap\"><div class=\"xthrough autoResize\" data-sizegroup=\"mini-meta-xthrough\"><div>C$261</div></div></div><div class=\"price autoResize\" data-clickpart=\"chevron_price\" data-index=\"0\" data-sizegroup=\"mini-meta-price\">C$220</div></div>,\n",
       " <div class=\"price-wrap \"><div class=\"xwrap\"><div class=\"xthrough autoResize\" data-sizegroup=\"mini-meta-xthrough\"><div>C$334</div></div></div><div class=\"price autoResize\" data-clickpart=\"chevron_price\" data-index=\"0\" data-sizegroup=\"mini-meta-price\">C$207</div></div>,\n",
       " <div class=\"price-wrap \"><div class=\"price autoResize\" data-clickpart=\"chevron_price\" data-index=\"0\" data-sizegroup=\"mini-meta-price\">C$663</div></div>,\n",
       " <div class=\"price-wrap \"><div class=\"price autoResize\" data-clickpart=\"chevron_price\" data-index=\"0\" data-sizegroup=\"mini-meta-price\">C$597</div></div>,\n",
       " <div class=\"price-wrap \"><div class=\"price autoResize\" data-clickpart=\"chevron_price\" data-index=\"0\" data-sizegroup=\"mini-meta-price\"><span class=\"ui_loader small\"><span></span><span></span><span></span><span></span><span></span></span></div></div>]"
      ]
     },
     "execution_count": 12,
     "metadata": {},
     "output_type": "execute_result"
    }
   ],
   "source": [
    "# hotel prices\n",
    "prices_results = soup.find_all(\"div\", class_=\"price-wrap\")\n",
    "prices_results"
   ]
  },
  {
   "cell_type": "code",
   "execution_count": 13,
   "metadata": {},
   "outputs": [
    {
     "name": "stdout",
     "output_type": "stream",
     "text": [
      "-------------\n",
      "C$227\n",
      "-------------\n",
      "C$197\n",
      "-------------\n",
      "C$313\n",
      "-------------\n",
      "C$328\n",
      "-------------\n",
      "C$250\n",
      "-------------\n",
      "C$357\n",
      "-------------\n",
      "C$245\n",
      "-------------\n",
      "C$211\n",
      "-------------\n",
      "C$290\n",
      "-------------\n",
      "C$190\n",
      "-------------\n",
      "C$232\n",
      "-------------\n",
      "C$213\n",
      "-------------\n",
      "C$333\n",
      "-------------\n",
      "C$185\n",
      "-------------\n",
      "C$264\n",
      "-------------\n",
      "C$264\n",
      "-------------\n",
      "C$393\n",
      "-------------\n",
      "C$247\n",
      "-------------\n",
      "C$420\n",
      "-------------\n",
      "C$178\n",
      "-------------\n",
      "C$290\n",
      "-------------\n",
      "C$526\n",
      "-------------\n",
      "C$131\n",
      "-------------\n",
      "C$238\n",
      "-------------\n",
      "C$321\n",
      "-------------\n",
      "C$297\n",
      "-------------\n",
      "C$220\n",
      "-------------\n",
      "C$207\n",
      "-------------\n",
      "C$663\n",
      "-------------\n",
      "C$597\n"
     ]
    }
   ],
   "source": [
    "# loop through returned results\n",
    "hotel_prices = []\n",
    "for result in prices_results:\n",
    "    # Error handling\n",
    "    try:\n",
    "        # Identify and return name of hotel\n",
    "        price = result.find('div', class_=\"price autoResize\").text\n",
    "        \n",
    "        # Print results only if title, price, and link are available\n",
    "        if (price):\n",
    "            print('-------------')\n",
    "            print(price)\n",
    "            hotel_prices.append(price)\n",
    "    except AttributeError as e:\n",
    "        print(e)"
   ]
  },
  {
   "cell_type": "code",
   "execution_count": 14,
   "metadata": {},
   "outputs": [
    {
     "data": {
      "text/plain": [
       "['C$227',\n",
       " 'C$197',\n",
       " 'C$313',\n",
       " 'C$328',\n",
       " 'C$250',\n",
       " 'C$357',\n",
       " 'C$245',\n",
       " 'C$211',\n",
       " 'C$290',\n",
       " 'C$190',\n",
       " 'C$232',\n",
       " 'C$213',\n",
       " 'C$333',\n",
       " 'C$185',\n",
       " 'C$264',\n",
       " 'C$264',\n",
       " 'C$393',\n",
       " 'C$247',\n",
       " 'C$420',\n",
       " 'C$178',\n",
       " 'C$290',\n",
       " 'C$526',\n",
       " 'C$131',\n",
       " 'C$238',\n",
       " 'C$321',\n",
       " 'C$297',\n",
       " 'C$220',\n",
       " 'C$207',\n",
       " 'C$663',\n",
       " 'C$597']"
      ]
     },
     "execution_count": 14,
     "metadata": {},
     "output_type": "execute_result"
    }
   ],
   "source": [
    "hotel_prices"
   ]
  },
  {
   "cell_type": "code",
   "execution_count": 15,
   "metadata": {},
   "outputs": [
    {
     "data": {
      "text/plain": [
       "['Holiday Inn Express Waikiki',\n",
       " 'Hotel La Croix',\n",
       " 'The Modern Honolulu',\n",
       " 'Outrigger Waikiki Beach Resort',\n",
       " 'Vive Hotel Waikiki',\n",
       " 'Prince Waikiki',\n",
       " 'Hilton Waikiki Beach',\n",
       " 'Shoreline Hotel Waikiki',\n",
       " 'Hyatt Regency Waikiki Beach Resort & Spa',\n",
       " 'Park Shore Waikiki',\n",
       " 'Hyatt Place Waikiki Beach',\n",
       " 'Coconut Waikiki Hotel',\n",
       " 'Sheraton Waikiki',\n",
       " 'Aqua Oasis',\n",
       " 'Hyatt Centric Waikiki Beach',\n",
       " 'Outrigger Reef Waikiki Beach Resort',\n",
       " 'Moana Surfrider, A Westin Resort & Spa, Waikiki Beach',\n",
       " 'The Surfjack Hotel & Swim Club',\n",
       " 'Embassy Suites by Hilton Waikiki Beach Walk',\n",
       " 'Waikiki Resort Hotel',\n",
       " 'Waikiki Beachcomber by Outrigger',\n",
       " 'Trump International Hotel Waikiki',\n",
       " 'Royal Grove Hotel',\n",
       " 'Luana Waikiki Hotel & Suites',\n",
       " 'Ilikai Hotel & Luxury Suites',\n",
       " 'The New Otani Kaimana Beach Hotel',\n",
       " 'Hilton Garden Inn Waikiki Beach',\n",
       " 'Lotus Honolulu at Diamond Head',\n",
       " 'The Kahala Hotel & Resort',\n",
       " 'The Ritz-Carlton Residences, Waikiki Beach',\n",
       " '‘Alohilani Resort Waikiki Beach']"
      ]
     },
     "execution_count": 15,
     "metadata": {},
     "output_type": "execute_result"
    }
   ],
   "source": [
    "hotel_names"
   ]
  },
  {
   "cell_type": "code",
   "execution_count": null,
   "metadata": {},
   "outputs": [],
   "source": []
  }
 ],
 "metadata": {
  "kernelspec": {
   "display_name": "Python 3",
   "language": "python",
   "name": "python3"
  },
  "language_info": {
   "codemirror_mode": {
    "name": "ipython",
    "version": 3
   },
   "file_extension": ".py",
   "mimetype": "text/x-python",
   "name": "python",
   "nbconvert_exporter": "python",
   "pygments_lexer": "ipython3",
   "version": "3.6.5"
  }
 },
 "nbformat": 4,
 "nbformat_minor": 2
}
